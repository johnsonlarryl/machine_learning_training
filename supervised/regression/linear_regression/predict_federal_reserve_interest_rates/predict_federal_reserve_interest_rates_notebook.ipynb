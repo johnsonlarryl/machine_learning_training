{
 "cells": [
  {
   "cell_type": "code",
   "execution_count": null,
   "id": "d755c63d",
   "metadata": {},
   "outputs": [],
   "source": [
    "# Imports\n",
    "import matplotlib.pyplot as plt\n",
    "import pandas as pd\n",
    "from pandas import Series\n",
    "from predict_federal_reserve_interest_rates.util.date import parse_cpi_index_period"
   ]
  },
  {
   "cell_type": "code",
   "execution_count": 506,
   "id": "3e9692bf",
   "metadata": {},
   "outputs": [],
   "source": [
    "# Importdata\n",
    "# cpi_index_df = pd.read_csv(\"predict_federal_reserve_interest_rates/data/bls/cpi/bls_cpi_overall.txt\",\n",
    "#                            dtype = {'series_id': str,\n",
    "#                                     'year': int,\n",
    "#                                     'period': str,\n",
    "#                                     'value': float,\n",
    "#                                     'footnote_codes': str},\n",
    "#                            delim_whitespace=True)\n",
    "# cpi_index_df.rename(columns={\"value\": \"rate\"})"
   ]
  },
  {
   "cell_type": "code",
   "execution_count": 507,
   "id": "ae05a449",
   "metadata": {},
   "outputs": [],
   "source": [
    "# Import data\n",
    "cpi_index_df = pd.read_csv(\"predict_federal_reserve_interest_rates/data/bls/cpi/bls_cpi_current.txt\", delim_whitespace=True)"
   ]
  },
  {
   "cell_type": "code",
   "execution_count": 508,
   "id": "1477e525",
   "metadata": {},
   "outputs": [
    {
     "data": {
      "text/html": [
       "<div>\n",
       "<style scoped>\n",
       "    .dataframe tbody tr th:only-of-type {\n",
       "        vertical-align: middle;\n",
       "    }\n",
       "\n",
       "    .dataframe tbody tr th {\n",
       "        vertical-align: top;\n",
       "    }\n",
       "\n",
       "    .dataframe thead th {\n",
       "        text-align: right;\n",
       "    }\n",
       "</style>\n",
       "<table border=\"1\" class=\"dataframe\">\n",
       "  <thead>\n",
       "    <tr style=\"text-align: right;\">\n",
       "      <th></th>\n",
       "      <th>series_id</th>\n",
       "      <th>year</th>\n",
       "      <th>period</th>\n",
       "      <th>value</th>\n",
       "      <th>footnote_codes</th>\n",
       "    </tr>\n",
       "  </thead>\n",
       "  <tbody>\n",
       "    <tr>\n",
       "      <th>0</th>\n",
       "      <td>APU0000701111</td>\n",
       "      <td>1995</td>\n",
       "      <td>M01</td>\n",
       "      <td>0.238</td>\n",
       "      <td>NaN</td>\n",
       "    </tr>\n",
       "    <tr>\n",
       "      <th>1</th>\n",
       "      <td>APU0000701111</td>\n",
       "      <td>1995</td>\n",
       "      <td>M02</td>\n",
       "      <td>0.242</td>\n",
       "      <td>NaN</td>\n",
       "    </tr>\n",
       "    <tr>\n",
       "      <th>2</th>\n",
       "      <td>APU0000701111</td>\n",
       "      <td>1995</td>\n",
       "      <td>M03</td>\n",
       "      <td>0.242</td>\n",
       "      <td>NaN</td>\n",
       "    </tr>\n",
       "    <tr>\n",
       "      <th>3</th>\n",
       "      <td>APU0000701111</td>\n",
       "      <td>1995</td>\n",
       "      <td>M04</td>\n",
       "      <td>0.236</td>\n",
       "      <td>NaN</td>\n",
       "    </tr>\n",
       "    <tr>\n",
       "      <th>4</th>\n",
       "      <td>APU0000701111</td>\n",
       "      <td>1995</td>\n",
       "      <td>M05</td>\n",
       "      <td>0.244</td>\n",
       "      <td>NaN</td>\n",
       "    </tr>\n",
       "  </tbody>\n",
       "</table>\n",
       "</div>"
      ],
      "text/plain": [
       "       series_id  year period  value footnote_codes\n",
       "0  APU0000701111  1995    M01  0.238            NaN\n",
       "1  APU0000701111  1995    M02  0.242            NaN\n",
       "2  APU0000701111  1995    M03  0.242            NaN\n",
       "3  APU0000701111  1995    M04  0.236            NaN\n",
       "4  APU0000701111  1995    M05  0.244            NaN"
      ]
     },
     "execution_count": 508,
     "metadata": {},
     "output_type": "execute_result"
    }
   ],
   "source": [
    "cpi_index_df.head()"
   ]
  },
  {
   "cell_type": "code",
   "execution_count": 509,
   "id": "5b2ae66c",
   "metadata": {},
   "outputs": [
    {
     "name": "stderr",
     "output_type": "stream",
     "text": [
      "/var/folders/3n/7kvkbqjd0l9grdj7kptkcfgr0000gn/T/ipykernel_85814/1877032335.py:1: FutureWarning: Dropping of nuisance columns in DataFrame reductions (with 'numeric_only=None') is deprecated; in a future version this will raise TypeError.  Select only valid columns before calling the reduction.\n",
      "  cpi_index_df.mean()\n"
     ]
    },
    {
     "data": {
      "text/plain": [
       "year    2007.653449\n",
       "dtype: float64"
      ]
     },
     "execution_count": 509,
     "metadata": {},
     "output_type": "execute_result"
    }
   ],
   "source": [
    "cpi_index_df.mean()"
   ]
  },
  {
   "cell_type": "code",
   "execution_count": 510,
   "id": "48553dac",
   "metadata": {},
   "outputs": [],
   "source": [
    "# Clean up values for various items in the CPI\n",
    "cpi_index_df['value'] = cpi_index_df['value'].replace(['-'], 0.00)\n",
    "cpi_index_df = cpi_index_df.astype({'value': 'float64'})"
   ]
  },
  {
   "cell_type": "code",
   "execution_count": 511,
   "id": "389f8c6a",
   "metadata": {},
   "outputs": [
    {
     "data": {
      "text/html": [
       "<div>\n",
       "<style scoped>\n",
       "    .dataframe tbody tr th:only-of-type {\n",
       "        vertical-align: middle;\n",
       "    }\n",
       "\n",
       "    .dataframe tbody tr th {\n",
       "        vertical-align: top;\n",
       "    }\n",
       "\n",
       "    .dataframe thead th {\n",
       "        text-align: right;\n",
       "    }\n",
       "</style>\n",
       "<table border=\"1\" class=\"dataframe\">\n",
       "  <thead>\n",
       "    <tr style=\"text-align: right;\">\n",
       "      <th></th>\n",
       "      <th>series_id</th>\n",
       "      <th>year</th>\n",
       "      <th>period</th>\n",
       "      <th>value</th>\n",
       "      <th>footnote_codes</th>\n",
       "    </tr>\n",
       "  </thead>\n",
       "  <tbody>\n",
       "    <tr>\n",
       "      <th>10667</th>\n",
       "      <td>APU0000710211</td>\n",
       "      <td>2018</td>\n",
       "      <td>M11</td>\n",
       "      <td>0.0</td>\n",
       "      <td>NaN</td>\n",
       "    </tr>\n",
       "  </tbody>\n",
       "</table>\n",
       "</div>"
      ],
      "text/plain": [
       "           series_id  year period  value footnote_codes\n",
       "10667  APU0000710211  2018    M11    0.0            NaN"
      ]
     },
     "execution_count": 511,
     "metadata": {},
     "output_type": "execute_result"
    }
   ],
   "source": [
    "cpi_index_df.iloc[[10667]]"
   ]
  },
  {
   "cell_type": "code",
   "execution_count": 512,
   "id": "7b87977f",
   "metadata": {},
   "outputs": [
    {
     "data": {
      "text/plain": [
       "(190076, 5)"
      ]
     },
     "execution_count": 512,
     "metadata": {},
     "output_type": "execute_result"
    }
   ],
   "source": [
    "cpi_index_df.shape"
   ]
  },
  {
   "cell_type": "code",
   "execution_count": 513,
   "id": "e11fbb15",
   "metadata": {},
   "outputs": [],
   "source": [
    "def get_period(row: Series):\n",
    "    return parse_cpi_index_period(row[\"year\"], row[\"period\"])"
   ]
  },
  {
   "cell_type": "code",
   "execution_count": 514,
   "id": "3a9e7634",
   "metadata": {},
   "outputs": [],
   "source": [
    "cpi_index_df['period'] = cpi_index_df.apply(lambda row: get_period(row), axis=1)"
   ]
  },
  {
   "cell_type": "code",
   "execution_count": 515,
   "id": "f75378fe",
   "metadata": {},
   "outputs": [
    {
     "data": {
      "text/plain": [
       "series_id            object\n",
       "year                  int64\n",
       "period            period[M]\n",
       "value               float64\n",
       "footnote_codes       object\n",
       "dtype: object"
      ]
     },
     "execution_count": 515,
     "metadata": {},
     "output_type": "execute_result"
    }
   ],
   "source": [
    "cpi_index_df.dtypes"
   ]
  },
  {
   "cell_type": "code",
   "execution_count": 516,
   "id": "1954cf53",
   "metadata": {},
   "outputs": [],
   "source": [
    "cpi_index_df = cpi_index_df.set_index('period')"
   ]
  },
  {
   "cell_type": "code",
   "execution_count": 517,
   "id": "1ea2645e",
   "metadata": {},
   "outputs": [
    {
     "data": {
      "text/plain": [
       "series_id          object\n",
       "year                int64\n",
       "value             float64\n",
       "footnote_codes     object\n",
       "dtype: object"
      ]
     },
     "execution_count": 517,
     "metadata": {},
     "output_type": "execute_result"
    }
   ],
   "source": [
    "cpi_index_df.dtypes"
   ]
  },
  {
   "cell_type": "code",
   "execution_count": 518,
   "id": "5ff3fa3b",
   "metadata": {},
   "outputs": [
    {
     "data": {
      "text/html": [
       "<div>\n",
       "<style scoped>\n",
       "    .dataframe tbody tr th:only-of-type {\n",
       "        vertical-align: middle;\n",
       "    }\n",
       "\n",
       "    .dataframe tbody tr th {\n",
       "        vertical-align: top;\n",
       "    }\n",
       "\n",
       "    .dataframe thead th {\n",
       "        text-align: right;\n",
       "    }\n",
       "</style>\n",
       "<table border=\"1\" class=\"dataframe\">\n",
       "  <thead>\n",
       "    <tr style=\"text-align: right;\">\n",
       "      <th></th>\n",
       "      <th>series_id</th>\n",
       "      <th>year</th>\n",
       "      <th>value</th>\n",
       "      <th>footnote_codes</th>\n",
       "    </tr>\n",
       "    <tr>\n",
       "      <th>period</th>\n",
       "      <th></th>\n",
       "      <th></th>\n",
       "      <th></th>\n",
       "      <th></th>\n",
       "    </tr>\n",
       "  </thead>\n",
       "  <tbody>\n",
       "    <tr>\n",
       "      <th>1995-01</th>\n",
       "      <td>APU0000701111</td>\n",
       "      <td>1995</td>\n",
       "      <td>0.238</td>\n",
       "      <td>NaN</td>\n",
       "    </tr>\n",
       "    <tr>\n",
       "      <th>1995-02</th>\n",
       "      <td>APU0000701111</td>\n",
       "      <td>1995</td>\n",
       "      <td>0.242</td>\n",
       "      <td>NaN</td>\n",
       "    </tr>\n",
       "    <tr>\n",
       "      <th>1995-03</th>\n",
       "      <td>APU0000701111</td>\n",
       "      <td>1995</td>\n",
       "      <td>0.242</td>\n",
       "      <td>NaN</td>\n",
       "    </tr>\n",
       "    <tr>\n",
       "      <th>1995-04</th>\n",
       "      <td>APU0000701111</td>\n",
       "      <td>1995</td>\n",
       "      <td>0.236</td>\n",
       "      <td>NaN</td>\n",
       "    </tr>\n",
       "    <tr>\n",
       "      <th>1995-05</th>\n",
       "      <td>APU0000701111</td>\n",
       "      <td>1995</td>\n",
       "      <td>0.244</td>\n",
       "      <td>NaN</td>\n",
       "    </tr>\n",
       "  </tbody>\n",
       "</table>\n",
       "</div>"
      ],
      "text/plain": [
       "             series_id  year  value footnote_codes\n",
       "period                                            \n",
       "1995-01  APU0000701111  1995  0.238            NaN\n",
       "1995-02  APU0000701111  1995  0.242            NaN\n",
       "1995-03  APU0000701111  1995  0.242            NaN\n",
       "1995-04  APU0000701111  1995  0.236            NaN\n",
       "1995-05  APU0000701111  1995  0.244            NaN"
      ]
     },
     "execution_count": 518,
     "metadata": {},
     "output_type": "execute_result"
    }
   ],
   "source": [
    "cpi_index_df.head()"
   ]
  },
  {
   "cell_type": "code",
   "execution_count": 519,
   "id": "14c9d8a6",
   "metadata": {},
   "outputs": [
    {
     "data": {
      "text/html": [
       "<div>\n",
       "<style scoped>\n",
       "    .dataframe tbody tr th:only-of-type {\n",
       "        vertical-align: middle;\n",
       "    }\n",
       "\n",
       "    .dataframe tbody tr th {\n",
       "        vertical-align: top;\n",
       "    }\n",
       "\n",
       "    .dataframe thead th {\n",
       "        text-align: right;\n",
       "    }\n",
       "</style>\n",
       "<table border=\"1\" class=\"dataframe\">\n",
       "  <thead>\n",
       "    <tr style=\"text-align: right;\">\n",
       "      <th></th>\n",
       "      <th>series_id</th>\n",
       "      <th>year</th>\n",
       "      <th>value</th>\n",
       "      <th>footnote_codes</th>\n",
       "    </tr>\n",
       "    <tr>\n",
       "      <th>period</th>\n",
       "      <th></th>\n",
       "      <th></th>\n",
       "      <th></th>\n",
       "      <th></th>\n",
       "    </tr>\n",
       "  </thead>\n",
       "  <tbody>\n",
       "    <tr>\n",
       "      <th>2018-11</th>\n",
       "      <td>APU0000710211</td>\n",
       "      <td>2018</td>\n",
       "      <td>0.0</td>\n",
       "      <td>NaN</td>\n",
       "    </tr>\n",
       "    <tr>\n",
       "      <th>2018-11</th>\n",
       "      <td>APU0200710211</td>\n",
       "      <td>2018</td>\n",
       "      <td>0.0</td>\n",
       "      <td>NaN</td>\n",
       "    </tr>\n",
       "    <tr>\n",
       "      <th>2018-11</th>\n",
       "      <td>APU030072511</td>\n",
       "      <td>2018</td>\n",
       "      <td>0.0</td>\n",
       "      <td>NaN</td>\n",
       "    </tr>\n",
       "    <tr>\n",
       "      <th>2018-12</th>\n",
       "      <td>APU030072511</td>\n",
       "      <td>2018</td>\n",
       "      <td>0.0</td>\n",
       "      <td>NaN</td>\n",
       "    </tr>\n",
       "    <tr>\n",
       "      <th>2018-11</th>\n",
       "      <td>APU035072511</td>\n",
       "      <td>2018</td>\n",
       "      <td>0.0</td>\n",
       "      <td>NaN</td>\n",
       "    </tr>\n",
       "    <tr>\n",
       "      <th>2018-12</th>\n",
       "      <td>APU035072511</td>\n",
       "      <td>2018</td>\n",
       "      <td>0.0</td>\n",
       "      <td>NaN</td>\n",
       "    </tr>\n",
       "    <tr>\n",
       "      <th>2018-11</th>\n",
       "      <td>APUS30072511</td>\n",
       "      <td>2018</td>\n",
       "      <td>0.0</td>\n",
       "      <td>NaN</td>\n",
       "    </tr>\n",
       "    <tr>\n",
       "      <th>2018-12</th>\n",
       "      <td>APUS30072511</td>\n",
       "      <td>2018</td>\n",
       "      <td>0.0</td>\n",
       "      <td>NaN</td>\n",
       "    </tr>\n",
       "    <tr>\n",
       "      <th>1996-03</th>\n",
       "      <td>APUS49B72601</td>\n",
       "      <td>1996</td>\n",
       "      <td>0.0</td>\n",
       "      <td>NaN</td>\n",
       "    </tr>\n",
       "    <tr>\n",
       "      <th>1996-04</th>\n",
       "      <td>APUS49B72601</td>\n",
       "      <td>1996</td>\n",
       "      <td>0.0</td>\n",
       "      <td>NaN</td>\n",
       "    </tr>\n",
       "    <tr>\n",
       "      <th>1996-03</th>\n",
       "      <td>APUS49B72611</td>\n",
       "      <td>1996</td>\n",
       "      <td>0.0</td>\n",
       "      <td>NaN</td>\n",
       "    </tr>\n",
       "    <tr>\n",
       "      <th>1996-03</th>\n",
       "      <td>APUS49B72620</td>\n",
       "      <td>1996</td>\n",
       "      <td>0.0</td>\n",
       "      <td>NaN</td>\n",
       "    </tr>\n",
       "  </tbody>\n",
       "</table>\n",
       "</div>"
      ],
      "text/plain": [
       "             series_id  year  value footnote_codes\n",
       "period                                            \n",
       "2018-11  APU0000710211  2018    0.0            NaN\n",
       "2018-11  APU0200710211  2018    0.0            NaN\n",
       "2018-11   APU030072511  2018    0.0            NaN\n",
       "2018-12   APU030072511  2018    0.0            NaN\n",
       "2018-11   APU035072511  2018    0.0            NaN\n",
       "2018-12   APU035072511  2018    0.0            NaN\n",
       "2018-11   APUS30072511  2018    0.0            NaN\n",
       "2018-12   APUS30072511  2018    0.0            NaN\n",
       "1996-03   APUS49B72601  1996    0.0            NaN\n",
       "1996-04   APUS49B72601  1996    0.0            NaN\n",
       "1996-03   APUS49B72611  1996    0.0            NaN\n",
       "1996-03   APUS49B72620  1996    0.0            NaN"
      ]
     },
     "execution_count": 519,
     "metadata": {},
     "output_type": "execute_result"
    }
   ],
   "source": [
    "cpi_index_df[(cpi_index_df.value == 0.00)]"
   ]
  },
  {
   "cell_type": "code",
   "execution_count": 539,
   "id": "7d6c84cb",
   "metadata": {},
   "outputs": [],
   "source": [
    "federal_funds_rate_df = pd.read_csv(\"predict_federal_reserve_interest_rates/data/fed/federal_funds_effective_rate.csv\")"
   ]
  },
  {
   "cell_type": "code",
   "execution_count": 540,
   "id": "1c164a29",
   "metadata": {},
   "outputs": [
    {
     "data": {
      "text/html": [
       "<div>\n",
       "<style scoped>\n",
       "    .dataframe tbody tr th:only-of-type {\n",
       "        vertical-align: middle;\n",
       "    }\n",
       "\n",
       "    .dataframe tbody tr th {\n",
       "        vertical-align: top;\n",
       "    }\n",
       "\n",
       "    .dataframe thead th {\n",
       "        text-align: right;\n",
       "    }\n",
       "</style>\n",
       "<table border=\"1\" class=\"dataframe\">\n",
       "  <thead>\n",
       "    <tr style=\"text-align: right;\">\n",
       "      <th></th>\n",
       "      <th>time_period</th>\n",
       "      <th>federal_funds_effective_rate</th>\n",
       "    </tr>\n",
       "  </thead>\n",
       "  <tbody>\n",
       "    <tr>\n",
       "      <th>0</th>\n",
       "      <td>1954-07-01</td>\n",
       "      <td>1.13</td>\n",
       "    </tr>\n",
       "    <tr>\n",
       "      <th>1</th>\n",
       "      <td>1954-07-02</td>\n",
       "      <td>1.25</td>\n",
       "    </tr>\n",
       "    <tr>\n",
       "      <th>2</th>\n",
       "      <td>1954-07-03</td>\n",
       "      <td>1.25</td>\n",
       "    </tr>\n",
       "    <tr>\n",
       "      <th>3</th>\n",
       "      <td>1954-07-04</td>\n",
       "      <td>1.25</td>\n",
       "    </tr>\n",
       "    <tr>\n",
       "      <th>4</th>\n",
       "      <td>1954-07-05</td>\n",
       "      <td>0.88</td>\n",
       "    </tr>\n",
       "  </tbody>\n",
       "</table>\n",
       "</div>"
      ],
      "text/plain": [
       "  time_period  federal_funds_effective_rate\n",
       "0  1954-07-01                          1.13\n",
       "1  1954-07-02                          1.25\n",
       "2  1954-07-03                          1.25\n",
       "3  1954-07-04                          1.25\n",
       "4  1954-07-05                          0.88"
      ]
     },
     "execution_count": 540,
     "metadata": {},
     "output_type": "execute_result"
    }
   ],
   "source": [
    "federal_funds_rate_df.head()"
   ]
  },
  {
   "cell_type": "code",
   "execution_count": 541,
   "id": "fabeecdc",
   "metadata": {},
   "outputs": [
    {
     "data": {
      "text/plain": [
       "(24911, 2)"
      ]
     },
     "execution_count": 541,
     "metadata": {},
     "output_type": "execute_result"
    }
   ],
   "source": [
    "federal_funds_rate_df.shape"
   ]
  },
  {
   "cell_type": "code",
   "execution_count": 542,
   "id": "68276b07",
   "metadata": {},
   "outputs": [],
   "source": [
    "federal_funds_rate_df = federal_funds_rate_df.astype({'federal_funds_effective_rate': 'float64',\n",
    "                                                      'time_period': 'datetime64'}) \\\n",
    "                                             .rename(columns={'time_period': 'period'}) \\\n",
    "                                             .set_index('period')"
   ]
  },
  {
   "cell_type": "code",
   "execution_count": 543,
   "id": "49999fa6",
   "metadata": {},
   "outputs": [
    {
     "data": {
      "text/plain": [
       "dtype('<M8[ns]')"
      ]
     },
     "execution_count": 543,
     "metadata": {},
     "output_type": "execute_result"
    }
   ],
   "source": [
    "federal_funds_rate_df.index.dtype"
   ]
  },
  {
   "cell_type": "code",
   "execution_count": 544,
   "id": "773a7cf5",
   "metadata": {},
   "outputs": [],
   "source": [
    "federal_funds_rate_df = federal_funds_rate_df.resample('M').mean()"
   ]
  },
  {
   "cell_type": "code",
   "execution_count": 545,
   "id": "dbe11661",
   "metadata": {},
   "outputs": [
    {
     "data": {
      "text/plain": [
       "dtype('<M8[ns]')"
      ]
     },
     "execution_count": 545,
     "metadata": {},
     "output_type": "execute_result"
    }
   ],
   "source": [
    "federal_funds_rate_df.index.dtype"
   ]
  },
  {
   "cell_type": "code",
   "execution_count": 546,
   "id": "08780c01",
   "metadata": {},
   "outputs": [],
   "source": [
    "federal_funds_rate_df.index = federal_funds_rate_df.index.to_period('M')"
   ]
  },
  {
   "cell_type": "code",
   "execution_count": 547,
   "id": "b21eab1b",
   "metadata": {},
   "outputs": [
    {
     "data": {
      "text/plain": [
       "period[M]"
      ]
     },
     "execution_count": 547,
     "metadata": {},
     "output_type": "execute_result"
    }
   ],
   "source": [
    "federal_funds_rate_df.index.dtype"
   ]
  },
  {
   "cell_type": "code",
   "execution_count": 548,
   "id": "02e04b64",
   "metadata": {},
   "outputs": [
    {
     "data": {
      "text/html": [
       "<div>\n",
       "<style scoped>\n",
       "    .dataframe tbody tr th:only-of-type {\n",
       "        vertical-align: middle;\n",
       "    }\n",
       "\n",
       "    .dataframe tbody tr th {\n",
       "        vertical-align: top;\n",
       "    }\n",
       "\n",
       "    .dataframe thead th {\n",
       "        text-align: right;\n",
       "    }\n",
       "</style>\n",
       "<table border=\"1\" class=\"dataframe\">\n",
       "  <thead>\n",
       "    <tr style=\"text-align: right;\">\n",
       "      <th></th>\n",
       "      <th>federal_funds_effective_rate</th>\n",
       "    </tr>\n",
       "    <tr>\n",
       "      <th>period</th>\n",
       "      <th></th>\n",
       "    </tr>\n",
       "  </thead>\n",
       "  <tbody>\n",
       "    <tr>\n",
       "      <th>1954-07</th>\n",
       "      <td>0.799355</td>\n",
       "    </tr>\n",
       "    <tr>\n",
       "      <th>1954-08</th>\n",
       "      <td>1.220645</td>\n",
       "    </tr>\n",
       "    <tr>\n",
       "      <th>1954-09</th>\n",
       "      <td>1.066667</td>\n",
       "    </tr>\n",
       "    <tr>\n",
       "      <th>1954-10</th>\n",
       "      <td>0.848710</td>\n",
       "    </tr>\n",
       "    <tr>\n",
       "      <th>1954-11</th>\n",
       "      <td>0.833667</td>\n",
       "    </tr>\n",
       "  </tbody>\n",
       "</table>\n",
       "</div>"
      ],
      "text/plain": [
       "         federal_funds_effective_rate\n",
       "period                               \n",
       "1954-07                      0.799355\n",
       "1954-08                      1.220645\n",
       "1954-09                      1.066667\n",
       "1954-10                      0.848710\n",
       "1954-11                      0.833667"
      ]
     },
     "execution_count": 548,
     "metadata": {},
     "output_type": "execute_result"
    }
   ],
   "source": [
    "federal_funds_rate_df.head()"
   ]
  },
  {
   "cell_type": "code",
   "execution_count": 538,
   "id": "ff9c8bfd",
   "metadata": {},
   "outputs": [
    {
     "data": {
      "text/plain": [
       "(819, 1)"
      ]
     },
     "execution_count": 538,
     "metadata": {},
     "output_type": "execute_result"
    }
   ],
   "source": [
    "federal_funds_rate_df.shape"
   ]
  },
  {
   "cell_type": "code",
   "execution_count": 527,
   "id": "98316351",
   "metadata": {},
   "outputs": [
    {
     "data": {
      "text/plain": [
       "(190076, 4)"
      ]
     },
     "execution_count": 527,
     "metadata": {},
     "output_type": "execute_result"
    }
   ],
   "source": [
    "cpi_index_df.shape"
   ]
  },
  {
   "cell_type": "code",
   "execution_count": 528,
   "id": "fd09a883",
   "metadata": {},
   "outputs": [
    {
     "data": {
      "text/html": [
       "<div>\n",
       "<style scoped>\n",
       "    .dataframe tbody tr th:only-of-type {\n",
       "        vertical-align: middle;\n",
       "    }\n",
       "\n",
       "    .dataframe tbody tr th {\n",
       "        vertical-align: top;\n",
       "    }\n",
       "\n",
       "    .dataframe thead th {\n",
       "        text-align: right;\n",
       "    }\n",
       "</style>\n",
       "<table border=\"1\" class=\"dataframe\">\n",
       "  <thead>\n",
       "    <tr style=\"text-align: right;\">\n",
       "      <th></th>\n",
       "      <th>series_id</th>\n",
       "      <th>year</th>\n",
       "      <th>value</th>\n",
       "      <th>footnote_codes</th>\n",
       "    </tr>\n",
       "    <tr>\n",
       "      <th>period</th>\n",
       "      <th></th>\n",
       "      <th></th>\n",
       "      <th></th>\n",
       "      <th></th>\n",
       "    </tr>\n",
       "  </thead>\n",
       "  <tbody>\n",
       "    <tr>\n",
       "      <th>1995-01</th>\n",
       "      <td>APU0000701111</td>\n",
       "      <td>1995</td>\n",
       "      <td>0.238</td>\n",
       "      <td>NaN</td>\n",
       "    </tr>\n",
       "    <tr>\n",
       "      <th>1995-02</th>\n",
       "      <td>APU0000701111</td>\n",
       "      <td>1995</td>\n",
       "      <td>0.242</td>\n",
       "      <td>NaN</td>\n",
       "    </tr>\n",
       "    <tr>\n",
       "      <th>1995-03</th>\n",
       "      <td>APU0000701111</td>\n",
       "      <td>1995</td>\n",
       "      <td>0.242</td>\n",
       "      <td>NaN</td>\n",
       "    </tr>\n",
       "    <tr>\n",
       "      <th>1995-04</th>\n",
       "      <td>APU0000701111</td>\n",
       "      <td>1995</td>\n",
       "      <td>0.236</td>\n",
       "      <td>NaN</td>\n",
       "    </tr>\n",
       "    <tr>\n",
       "      <th>1995-05</th>\n",
       "      <td>APU0000701111</td>\n",
       "      <td>1995</td>\n",
       "      <td>0.244</td>\n",
       "      <td>NaN</td>\n",
       "    </tr>\n",
       "  </tbody>\n",
       "</table>\n",
       "</div>"
      ],
      "text/plain": [
       "             series_id  year  value footnote_codes\n",
       "period                                            \n",
       "1995-01  APU0000701111  1995  0.238            NaN\n",
       "1995-02  APU0000701111  1995  0.242            NaN\n",
       "1995-03  APU0000701111  1995  0.242            NaN\n",
       "1995-04  APU0000701111  1995  0.236            NaN\n",
       "1995-05  APU0000701111  1995  0.244            NaN"
      ]
     },
     "execution_count": 528,
     "metadata": {},
     "output_type": "execute_result"
    }
   ],
   "source": [
    "cpi_index_df.head()"
   ]
  },
  {
   "cell_type": "code",
   "execution_count": 422,
   "id": "2cac21df",
   "metadata": {},
   "outputs": [],
   "source": [
    "treasury_long_term_bond_rate_df = pd.read_csv(\"predict_federal_reserve_interest_rates/data/treasury/real-long-term-rates-2000-2021.csv\")"
   ]
  },
  {
   "cell_type": "code",
   "execution_count": 423,
   "id": "b7823e41",
   "metadata": {},
   "outputs": [
    {
     "data": {
      "text/html": [
       "<div>\n",
       "<style scoped>\n",
       "    .dataframe tbody tr th:only-of-type {\n",
       "        vertical-align: middle;\n",
       "    }\n",
       "\n",
       "    .dataframe tbody tr th {\n",
       "        vertical-align: top;\n",
       "    }\n",
       "\n",
       "    .dataframe thead th {\n",
       "        text-align: right;\n",
       "    }\n",
       "</style>\n",
       "<table border=\"1\" class=\"dataframe\">\n",
       "  <thead>\n",
       "    <tr style=\"text-align: right;\">\n",
       "      <th></th>\n",
       "      <th>date</th>\n",
       "      <th>long_term_real_average</th>\n",
       "    </tr>\n",
       "  </thead>\n",
       "  <tbody>\n",
       "    <tr>\n",
       "      <th>0</th>\n",
       "      <td>12/31/21</td>\n",
       "      <td>-0.52</td>\n",
       "    </tr>\n",
       "    <tr>\n",
       "      <th>1</th>\n",
       "      <td>12/30/21</td>\n",
       "      <td>-0.51</td>\n",
       "    </tr>\n",
       "    <tr>\n",
       "      <th>2</th>\n",
       "      <td>12/29/21</td>\n",
       "      <td>-0.45</td>\n",
       "    </tr>\n",
       "    <tr>\n",
       "      <th>3</th>\n",
       "      <td>12/28/21</td>\n",
       "      <td>-0.48</td>\n",
       "    </tr>\n",
       "    <tr>\n",
       "      <th>4</th>\n",
       "      <td>12/27/21</td>\n",
       "      <td>-0.50</td>\n",
       "    </tr>\n",
       "  </tbody>\n",
       "</table>\n",
       "</div>"
      ],
      "text/plain": [
       "       date  long_term_real_average\n",
       "0  12/31/21                   -0.52\n",
       "1  12/30/21                   -0.51\n",
       "2  12/29/21                   -0.45\n",
       "3  12/28/21                   -0.48\n",
       "4  12/27/21                   -0.50"
      ]
     },
     "execution_count": 423,
     "metadata": {},
     "output_type": "execute_result"
    }
   ],
   "source": [
    "treasury_long_term_bond_rate_df.head()"
   ]
  },
  {
   "cell_type": "code",
   "execution_count": 424,
   "id": "5ef1e5a6",
   "metadata": {},
   "outputs": [],
   "source": [
    "treasury_long_term_bond_rate_df = treasury_long_term_bond_rate_df.astype({'long_term_real_average': 'float64',\n",
    "                                                                          'date': 'datetime64'}) \\\n",
    "                                                                 .rename(columns={'date': 'period'}) \\\n",
    "                                                                 .set_index('period')"
   ]
  },
  {
   "cell_type": "code",
   "execution_count": 425,
   "id": "424d8c18",
   "metadata": {},
   "outputs": [
    {
     "data": {
      "text/plain": [
       "long_term_real_average    float64\n",
       "dtype: object"
      ]
     },
     "execution_count": 425,
     "metadata": {},
     "output_type": "execute_result"
    }
   ],
   "source": [
    "treasury_long_term_bond_rate_df.dtypes"
   ]
  },
  {
   "cell_type": "code",
   "execution_count": 426,
   "id": "c894131b",
   "metadata": {},
   "outputs": [],
   "source": [
    "treasury_long_term_bond_rate_monthly_average_df = treasury_long_term_bond_rate_df.rolling(window=30)['long_term_real_average'].mean()"
   ]
  },
  {
   "cell_type": "code",
   "execution_count": 427,
   "id": "409e6426",
   "metadata": {},
   "outputs": [
    {
     "data": {
      "text/plain": [
       "(5504, 1)"
      ]
     },
     "execution_count": 427,
     "metadata": {},
     "output_type": "execute_result"
    }
   ],
   "source": [
    "treasury_long_term_bond_rate_df.shape"
   ]
  },
  {
   "cell_type": "code",
   "execution_count": 428,
   "id": "44310329",
   "metadata": {},
   "outputs": [],
   "source": [
    "treasury_long_term_bond_rate_monthly_average_df.index = treasury_long_term_bond_rate_monthly_average_df.index.to_period('M')"
   ]
  },
  {
   "cell_type": "code",
   "execution_count": 429,
   "id": "544b3f74",
   "metadata": {},
   "outputs": [
    {
     "data": {
      "text/plain": [
       "long_term_real_average    float64\n",
       "dtype: object"
      ]
     },
     "execution_count": 429,
     "metadata": {},
     "output_type": "execute_result"
    }
   ],
   "source": [
    "treasury_long_term_bond_rate_df.dtypes"
   ]
  },
  {
   "cell_type": "code",
   "execution_count": 549,
   "id": "647e04db",
   "metadata": {},
   "outputs": [
    {
     "data": {
      "text/html": [
       "<div>\n",
       "<style scoped>\n",
       "    .dataframe tbody tr th:only-of-type {\n",
       "        vertical-align: middle;\n",
       "    }\n",
       "\n",
       "    .dataframe tbody tr th {\n",
       "        vertical-align: top;\n",
       "    }\n",
       "\n",
       "    .dataframe thead th {\n",
       "        text-align: right;\n",
       "    }\n",
       "</style>\n",
       "<table border=\"1\" class=\"dataframe\">\n",
       "  <thead>\n",
       "    <tr style=\"text-align: right;\">\n",
       "      <th></th>\n",
       "      <th>long_term_real_average</th>\n",
       "    </tr>\n",
       "    <tr>\n",
       "      <th>period</th>\n",
       "      <th></th>\n",
       "    </tr>\n",
       "  </thead>\n",
       "  <tbody>\n",
       "    <tr>\n",
       "      <th>2021-12-31</th>\n",
       "      <td>-0.52</td>\n",
       "    </tr>\n",
       "    <tr>\n",
       "      <th>2021-12-30</th>\n",
       "      <td>-0.51</td>\n",
       "    </tr>\n",
       "    <tr>\n",
       "      <th>2021-12-29</th>\n",
       "      <td>-0.45</td>\n",
       "    </tr>\n",
       "    <tr>\n",
       "      <th>2021-12-28</th>\n",
       "      <td>-0.48</td>\n",
       "    </tr>\n",
       "    <tr>\n",
       "      <th>2021-12-27</th>\n",
       "      <td>-0.50</td>\n",
       "    </tr>\n",
       "  </tbody>\n",
       "</table>\n",
       "</div>"
      ],
      "text/plain": [
       "            long_term_real_average\n",
       "period                            \n",
       "2021-12-31                   -0.52\n",
       "2021-12-30                   -0.51\n",
       "2021-12-29                   -0.45\n",
       "2021-12-28                   -0.48\n",
       "2021-12-27                   -0.50"
      ]
     },
     "execution_count": 549,
     "metadata": {},
     "output_type": "execute_result"
    }
   ],
   "source": [
    "treasury_long_term_bond_rate_df.head()"
   ]
  },
  {
   "cell_type": "code",
   "execution_count": 565,
   "id": "74bc1ce0",
   "metadata": {},
   "outputs": [],
   "source": [
    "s_and_p_500_stock_prices_df = pd.read_csv(\"predict_federal_reserve_interest_rates/data/wsj/s_and_p_500_historical_prices.csv\")"
   ]
  },
  {
   "cell_type": "code",
   "execution_count": 566,
   "id": "99fc739d",
   "metadata": {},
   "outputs": [],
   "source": [
    "s_and_p_500_stock_prices_df = s_and_p_500_stock_prices_df.astype({'Date': 'datetime64'}) \\\n",
    "                                                                 .rename(columns={'Date': 'period'}) \\\n",
    "                                                                 .set_index('period')"
   ]
  },
  {
   "cell_type": "code",
   "execution_count": 567,
   "id": "4dbb7ea8",
   "metadata": {},
   "outputs": [
    {
     "data": {
      "text/plain": [
       "(11274, 4)"
      ]
     },
     "execution_count": 567,
     "metadata": {},
     "output_type": "execute_result"
    }
   ],
   "source": [
    "s_and_p_500_stock_prices_df.shape"
   ]
  },
  {
   "cell_type": "code",
   "execution_count": 568,
   "id": "38b42e81",
   "metadata": {},
   "outputs": [],
   "source": [
    "s_and_p_500_stock_prices_df = s_and_p_500_stock_prices_df.resample('M').mean()"
   ]
  },
  {
   "cell_type": "code",
   "execution_count": 569,
   "id": "dbed790d",
   "metadata": {},
   "outputs": [
    {
     "data": {
      "text/plain": [
       "(537, 4)"
      ]
     },
     "execution_count": 569,
     "metadata": {},
     "output_type": "execute_result"
    }
   ],
   "source": [
    "s_and_p_500_stock_prices_df.shape"
   ]
  },
  {
   "cell_type": "code",
   "execution_count": 570,
   "id": "c5f25a8a",
   "metadata": {},
   "outputs": [
    {
     "data": {
      "text/plain": [
       " Open     float64\n",
       " High     float64\n",
       " Low      float64\n",
       " Close    float64\n",
       "dtype: object"
      ]
     },
     "execution_count": 570,
     "metadata": {},
     "output_type": "execute_result"
    }
   ],
   "source": [
    "s_and_p_500_stock_prices_df.dtypes"
   ]
  },
  {
   "cell_type": "code",
   "execution_count": 572,
   "id": "7cb69803",
   "metadata": {},
   "outputs": [
    {
     "data": {
      "text/html": [
       "<div>\n",
       "<style scoped>\n",
       "    .dataframe tbody tr th:only-of-type {\n",
       "        vertical-align: middle;\n",
       "    }\n",
       "\n",
       "    .dataframe tbody tr th {\n",
       "        vertical-align: top;\n",
       "    }\n",
       "\n",
       "    .dataframe thead th {\n",
       "        text-align: right;\n",
       "    }\n",
       "</style>\n",
       "<table border=\"1\" class=\"dataframe\">\n",
       "  <thead>\n",
       "    <tr style=\"text-align: right;\">\n",
       "      <th></th>\n",
       "      <th>Open</th>\n",
       "      <th>High</th>\n",
       "      <th>Low</th>\n",
       "      <th>Close</th>\n",
       "    </tr>\n",
       "    <tr>\n",
       "      <th>period</th>\n",
       "      <th></th>\n",
       "      <th></th>\n",
       "      <th></th>\n",
       "      <th></th>\n",
       "    </tr>\n",
       "  </thead>\n",
       "  <tbody>\n",
       "    <tr>\n",
       "      <th>1978-01-31</th>\n",
       "      <td>90.254286</td>\n",
       "      <td>91.080000</td>\n",
       "      <td>89.747619</td>\n",
       "      <td>90.254286</td>\n",
       "    </tr>\n",
       "    <tr>\n",
       "      <th>1978-02-28</th>\n",
       "      <td>88.922632</td>\n",
       "      <td>89.453684</td>\n",
       "      <td>88.481053</td>\n",
       "      <td>88.922632</td>\n",
       "    </tr>\n",
       "    <tr>\n",
       "      <th>1978-03-31</th>\n",
       "      <td>88.819545</td>\n",
       "      <td>89.307727</td>\n",
       "      <td>88.189091</td>\n",
       "      <td>88.819545</td>\n",
       "    </tr>\n",
       "    <tr>\n",
       "      <th>1978-04-30</th>\n",
       "      <td>92.710500</td>\n",
       "      <td>93.397500</td>\n",
       "      <td>91.872500</td>\n",
       "      <td>92.710500</td>\n",
       "    </tr>\n",
       "    <tr>\n",
       "      <th>1978-05-31</th>\n",
       "      <td>97.412273</td>\n",
       "      <td>98.222273</td>\n",
       "      <td>96.579545</td>\n",
       "      <td>97.412273</td>\n",
       "    </tr>\n",
       "  </tbody>\n",
       "</table>\n",
       "</div>"
      ],
      "text/plain": [
       "                 Open       High        Low      Close\n",
       "period                                                \n",
       "1978-01-31  90.254286  91.080000  89.747619  90.254286\n",
       "1978-02-28  88.922632  89.453684  88.481053  88.922632\n",
       "1978-03-31  88.819545  89.307727  88.189091  88.819545\n",
       "1978-04-30  92.710500  93.397500  91.872500  92.710500\n",
       "1978-05-31  97.412273  98.222273  96.579545  97.412273"
      ]
     },
     "execution_count": 572,
     "metadata": {},
     "output_type": "execute_result"
    }
   ],
   "source": [
    "s_and_p_500_stock_prices_df.head()"
   ]
  }
 ],
 "metadata": {
  "kernelspec": {
   "display_name": "Python 3 (ipykernel)",
   "language": "python",
   "name": "python3"
  },
  "language_info": {
   "codemirror_mode": {
    "name": "ipython",
    "version": 3
   },
   "file_extension": ".py",
   "mimetype": "text/x-python",
   "name": "python",
   "nbconvert_exporter": "python",
   "pygments_lexer": "ipython3",
   "version": "3.9.5"
  }
 },
 "nbformat": 4,
 "nbformat_minor": 5
}
