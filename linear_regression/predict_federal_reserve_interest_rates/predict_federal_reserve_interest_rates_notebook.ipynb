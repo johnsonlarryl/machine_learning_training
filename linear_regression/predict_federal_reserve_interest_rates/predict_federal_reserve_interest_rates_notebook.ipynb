{
 "cells": [
  {
   "cell_type": "code",
   "execution_count": 21,
   "id": "d755c63d",
   "metadata": {},
   "outputs": [],
   "source": [
    "import pandas as pd"
   ]
  },
  {
   "cell_type": "code",
   "execution_count": 22,
   "id": "ae05a449",
   "metadata": {},
   "outputs": [],
   "source": [
    "# Import data\n",
    "cpi_index_df = pd.read_csv(\"predict_federal_reserve_interest_rates/data/bls/cpi/bls_cpi_overall.txt\",\n",
    "                               delim_whitespace=True)"
   ]
  },
  {
   "cell_type": "code",
   "execution_count": 23,
   "id": "a5f8ff1b",
   "metadata": {},
   "outputs": [
    {
     "data": {
      "text/html": [
       "<div>\n",
       "<style scoped>\n",
       "    .dataframe tbody tr th:only-of-type {\n",
       "        vertical-align: middle;\n",
       "    }\n",
       "\n",
       "    .dataframe tbody tr th {\n",
       "        vertical-align: top;\n",
       "    }\n",
       "\n",
       "    .dataframe thead th {\n",
       "        text-align: right;\n",
       "    }\n",
       "</style>\n",
       "<table border=\"1\" class=\"dataframe\">\n",
       "  <thead>\n",
       "    <tr style=\"text-align: right;\">\n",
       "      <th></th>\n",
       "      <th>series_id</th>\n",
       "      <th>year</th>\n",
       "      <th>period</th>\n",
       "      <th>value</th>\n",
       "      <th>footnote_codes</th>\n",
       "    </tr>\n",
       "  </thead>\n",
       "  <tbody>\n",
       "    <tr>\n",
       "      <th>0</th>\n",
       "      <td>APU0000701111</td>\n",
       "      <td>1995</td>\n",
       "      <td>M01</td>\n",
       "      <td>0.238</td>\n",
       "      <td>NaN</td>\n",
       "    </tr>\n",
       "    <tr>\n",
       "      <th>1</th>\n",
       "      <td>APU0000701111</td>\n",
       "      <td>1995</td>\n",
       "      <td>M02</td>\n",
       "      <td>0.242</td>\n",
       "      <td>NaN</td>\n",
       "    </tr>\n",
       "    <tr>\n",
       "      <th>2</th>\n",
       "      <td>APU0000701111</td>\n",
       "      <td>1995</td>\n",
       "      <td>M03</td>\n",
       "      <td>0.242</td>\n",
       "      <td>NaN</td>\n",
       "    </tr>\n",
       "    <tr>\n",
       "      <th>3</th>\n",
       "      <td>APU0000701111</td>\n",
       "      <td>1995</td>\n",
       "      <td>M04</td>\n",
       "      <td>0.236</td>\n",
       "      <td>NaN</td>\n",
       "    </tr>\n",
       "    <tr>\n",
       "      <th>4</th>\n",
       "      <td>APU0000701111</td>\n",
       "      <td>1995</td>\n",
       "      <td>M05</td>\n",
       "      <td>0.244</td>\n",
       "      <td>NaN</td>\n",
       "    </tr>\n",
       "  </tbody>\n",
       "</table>\n",
       "</div>"
      ],
      "text/plain": [
       "       series_id  year period  value  footnote_codes\n",
       "0  APU0000701111  1995    M01  0.238             NaN\n",
       "1  APU0000701111  1995    M02  0.242             NaN\n",
       "2  APU0000701111  1995    M03  0.242             NaN\n",
       "3  APU0000701111  1995    M04  0.236             NaN\n",
       "4  APU0000701111  1995    M05  0.244             NaN"
      ]
     },
     "execution_count": 23,
     "metadata": {},
     "output_type": "execute_result"
    }
   ],
   "source": [
    "cpi_index_df.head()"
   ]
  },
  {
   "cell_type": "code",
   "execution_count": 24,
   "id": "7d6c84cb",
   "metadata": {},
   "outputs": [],
   "source": [
    "federal_funds_rate = pd.read_csv(\"predict_federal_reserve_interest_rates/data/fed/federal_funds_effective_rate.csv\")"
   ]
  },
  {
   "cell_type": "code",
   "execution_count": 25,
   "id": "1c164a29",
   "metadata": {},
   "outputs": [
    {
     "data": {
      "text/html": [
       "<div>\n",
       "<style scoped>\n",
       "    .dataframe tbody tr th:only-of-type {\n",
       "        vertical-align: middle;\n",
       "    }\n",
       "\n",
       "    .dataframe tbody tr th {\n",
       "        vertical-align: top;\n",
       "    }\n",
       "\n",
       "    .dataframe thead th {\n",
       "        text-align: right;\n",
       "    }\n",
       "</style>\n",
       "<table border=\"1\" class=\"dataframe\">\n",
       "  <thead>\n",
       "    <tr style=\"text-align: right;\">\n",
       "      <th></th>\n",
       "      <th>time_period</th>\n",
       "      <th>federal_funds_effective_rate</th>\n",
       "    </tr>\n",
       "  </thead>\n",
       "  <tbody>\n",
       "    <tr>\n",
       "      <th>0</th>\n",
       "      <td>1954-07-01</td>\n",
       "      <td>1.13</td>\n",
       "    </tr>\n",
       "    <tr>\n",
       "      <th>1</th>\n",
       "      <td>1954-07-02</td>\n",
       "      <td>1.25</td>\n",
       "    </tr>\n",
       "    <tr>\n",
       "      <th>2</th>\n",
       "      <td>1954-07-03</td>\n",
       "      <td>1.25</td>\n",
       "    </tr>\n",
       "    <tr>\n",
       "      <th>3</th>\n",
       "      <td>1954-07-04</td>\n",
       "      <td>1.25</td>\n",
       "    </tr>\n",
       "    <tr>\n",
       "      <th>4</th>\n",
       "      <td>1954-07-05</td>\n",
       "      <td>0.88</td>\n",
       "    </tr>\n",
       "  </tbody>\n",
       "</table>\n",
       "</div>"
      ],
      "text/plain": [
       "  time_period  federal_funds_effective_rate\n",
       "0  1954-07-01                          1.13\n",
       "1  1954-07-02                          1.25\n",
       "2  1954-07-03                          1.25\n",
       "3  1954-07-04                          1.25\n",
       "4  1954-07-05                          0.88"
      ]
     },
     "execution_count": 25,
     "metadata": {},
     "output_type": "execute_result"
    }
   ],
   "source": [
    "federal_funds_rate.head()"
   ]
  },
  {
   "cell_type": "code",
   "execution_count": 26,
   "id": "2cac21df",
   "metadata": {},
   "outputs": [],
   "source": [
    "treasuty_long_term_bond_rate = pd.read_csv(\"predict_federal_reserve_interest_rates/data/treasury/real-long-term-rates-2000-2021.csv\")"
   ]
  },
  {
   "cell_type": "code",
   "execution_count": 27,
   "id": "b7823e41",
   "metadata": {},
   "outputs": [
    {
     "data": {
      "text/html": [
       "<div>\n",
       "<style scoped>\n",
       "    .dataframe tbody tr th:only-of-type {\n",
       "        vertical-align: middle;\n",
       "    }\n",
       "\n",
       "    .dataframe tbody tr th {\n",
       "        vertical-align: top;\n",
       "    }\n",
       "\n",
       "    .dataframe thead th {\n",
       "        text-align: right;\n",
       "    }\n",
       "</style>\n",
       "<table border=\"1\" class=\"dataframe\">\n",
       "  <thead>\n",
       "    <tr style=\"text-align: right;\">\n",
       "      <th></th>\n",
       "      <th>date</th>\n",
       "      <th>long_term_real_average</th>\n",
       "    </tr>\n",
       "  </thead>\n",
       "  <tbody>\n",
       "    <tr>\n",
       "      <th>0</th>\n",
       "      <td>12/31/21</td>\n",
       "      <td>-0.52</td>\n",
       "    </tr>\n",
       "    <tr>\n",
       "      <th>1</th>\n",
       "      <td>12/30/21</td>\n",
       "      <td>-0.51</td>\n",
       "    </tr>\n",
       "    <tr>\n",
       "      <th>2</th>\n",
       "      <td>12/29/21</td>\n",
       "      <td>-0.45</td>\n",
       "    </tr>\n",
       "    <tr>\n",
       "      <th>3</th>\n",
       "      <td>12/28/21</td>\n",
       "      <td>-0.48</td>\n",
       "    </tr>\n",
       "    <tr>\n",
       "      <th>4</th>\n",
       "      <td>12/27/21</td>\n",
       "      <td>-0.50</td>\n",
       "    </tr>\n",
       "  </tbody>\n",
       "</table>\n",
       "</div>"
      ],
      "text/plain": [
       "       date  long_term_real_average\n",
       "0  12/31/21                   -0.52\n",
       "1  12/30/21                   -0.51\n",
       "2  12/29/21                   -0.45\n",
       "3  12/28/21                   -0.48\n",
       "4  12/27/21                   -0.50"
      ]
     },
     "execution_count": 27,
     "metadata": {},
     "output_type": "execute_result"
    }
   ],
   "source": [
    "treasuty_long_term_bond_rate.head()"
   ]
  },
  {
   "cell_type": "code",
   "execution_count": 28,
   "id": "74bc1ce0",
   "metadata": {},
   "outputs": [],
   "source": [
    "s_and_p_500_stock_prices = pd.read_csv(\"predict_federal_reserve_interest_rates/data/wsj/s_and_p_500_historical_prices.csv\")"
   ]
  },
  {
   "cell_type": "code",
   "execution_count": 29,
   "id": "7cb69803",
   "metadata": {},
   "outputs": [
    {
     "data": {
      "text/html": [
       "<div>\n",
       "<style scoped>\n",
       "    .dataframe tbody tr th:only-of-type {\n",
       "        vertical-align: middle;\n",
       "    }\n",
       "\n",
       "    .dataframe tbody tr th {\n",
       "        vertical-align: top;\n",
       "    }\n",
       "\n",
       "    .dataframe thead th {\n",
       "        text-align: right;\n",
       "    }\n",
       "</style>\n",
       "<table border=\"1\" class=\"dataframe\">\n",
       "  <thead>\n",
       "    <tr style=\"text-align: right;\">\n",
       "      <th></th>\n",
       "      <th>Date</th>\n",
       "      <th>Open</th>\n",
       "      <th>High</th>\n",
       "      <th>Low</th>\n",
       "      <th>Close</th>\n",
       "    </tr>\n",
       "  </thead>\n",
       "  <tbody>\n",
       "    <tr>\n",
       "      <th>0</th>\n",
       "      <td>09/16/22</td>\n",
       "      <td>3880.95</td>\n",
       "      <td>3880.95</td>\n",
       "      <td>3837.08</td>\n",
       "      <td>3873.33</td>\n",
       "    </tr>\n",
       "    <tr>\n",
       "      <th>1</th>\n",
       "      <td>09/15/22</td>\n",
       "      <td>3932.41</td>\n",
       "      <td>3959.14</td>\n",
       "      <td>3888.28</td>\n",
       "      <td>3901.35</td>\n",
       "    </tr>\n",
       "    <tr>\n",
       "      <th>2</th>\n",
       "      <td>09/14/22</td>\n",
       "      <td>3940.73</td>\n",
       "      <td>3961.94</td>\n",
       "      <td>3912.18</td>\n",
       "      <td>3946.01</td>\n",
       "    </tr>\n",
       "    <tr>\n",
       "      <th>3</th>\n",
       "      <td>09/13/22</td>\n",
       "      <td>4037.12</td>\n",
       "      <td>4037.12</td>\n",
       "      <td>3921.28</td>\n",
       "      <td>3932.69</td>\n",
       "    </tr>\n",
       "    <tr>\n",
       "      <th>4</th>\n",
       "      <td>09/12/22</td>\n",
       "      <td>4083.67</td>\n",
       "      <td>4119.28</td>\n",
       "      <td>4083.67</td>\n",
       "      <td>4110.41</td>\n",
       "    </tr>\n",
       "  </tbody>\n",
       "</table>\n",
       "</div>"
      ],
      "text/plain": [
       "       Date     Open     High      Low    Close\n",
       "0  09/16/22  3880.95  3880.95  3837.08  3873.33\n",
       "1  09/15/22  3932.41  3959.14  3888.28  3901.35\n",
       "2  09/14/22  3940.73  3961.94  3912.18  3946.01\n",
       "3  09/13/22  4037.12  4037.12  3921.28  3932.69\n",
       "4  09/12/22  4083.67  4119.28  4083.67  4110.41"
      ]
     },
     "execution_count": 29,
     "metadata": {},
     "output_type": "execute_result"
    }
   ],
   "source": [
    "s_and_p_500_stock_prices.head()"
   ]
  },
  {
   "cell_type": "code",
   "execution_count": null,
   "id": "f9b220b7",
   "metadata": {},
   "outputs": [],
   "source": []
  }
 ],
 "metadata": {
  "kernelspec": {
   "display_name": "Python 3 (ipykernel)",
   "language": "python",
   "name": "python3"
  },
  "language_info": {
   "codemirror_mode": {
    "name": "ipython",
    "version": 3
   },
   "file_extension": ".py",
   "mimetype": "text/x-python",
   "name": "python",
   "nbconvert_exporter": "python",
   "pygments_lexer": "ipython3",
   "version": "3.9.5"
  }
 },
 "nbformat": 4,
 "nbformat_minor": 5
}
